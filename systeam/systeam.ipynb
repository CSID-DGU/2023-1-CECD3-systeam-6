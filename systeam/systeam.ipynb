import torch
import sys
import os
import numpy as np
import pandas as pd
import json,pickle
import networkx as nx
from math import sqrt
from random import shuffle
from collections import OrderedDict
from scipy import stats
from IPython.display import SVG
import torch.nn as nn
import torch.nn.functional as F
from torch.nn import Sequential, Linear, ReLU
from rdkit import Chem
from rdkit.Chem.Draw import IPythonConsole
from rdkit.Chem import rdDepictor
from rdkit.Chem.Draw import rdMolDraw2D
from rdkit.Chem import MolFromSmiles
from torch_geometric import data as DATA
from torch_geometric.data import InMemoryDataset
from torch_geometric.loader import DataLoader
from torch_geometric.nn import GCNConv, global_max_pool as gmp
from torch_geometric.nn import GCNConv, GATConv, GINConv, global_add_pool
from torch_geometric.nn import global_mean_pool as gap, global_max_pool as gmp

# 시각화 라이브러리
from matplotlib import pyplot as plt
import seaborn as sns
#%matplotlib inline

def moltosvg(mol,molSize=(600,400),kekulize=True):
    mc = Chem.Mol(mol.ToBinary())
    if kekulize:
        try:
            Chem.Kekulize(mc)
        except:
            mc = Chem.Mol(mol.ToBinary())
    if not mc.GetNumConformers():
        rdDepictor.Compute2DCoords(mc)
    drawer = rdMolDraw2D.MolDraw2DSVG(molSize[0],molSize[1])
    drawer.DrawMolecule(mc)
    drawer.FinishDrawing()
    svg = drawer.GetDrawingText()
    return svg

def render_svg(svg):
    return SVG(svg.replace('svg:',''))

def one_of_k_encoding(x, allowable_set):
    if x not in allowable_set:
        raise Exception("input {0} not in allowable set{1}:".format(x, allowable_set))
    return list(map(lambda s: x == s, allowable_set))

def one_of_k_encoding_unk(x, allowable_set):
    """Maps inputs not in the allowable set to the last element."""
    if x not in allowable_set:
        x = allowable_set[-1]
    return list(map(lambda s: x == s, allowable_set))

def atom_features(atom):
    return np.array(one_of_k_encoding_unk(atom.GetSymbol(),['C', 'N', 'O', 'S', 'F', 'Si', 'P', 'Cl', 'Br', 'Mg', 'Na','Ca', 'Fe', 'As', 'Al', 'I', 'B', 'V', 'K', 'Tl', 'Yb','Sb', 'Sn', 'Ag', 'Pd', 'Co', 'Se', 'Ti', 'Zn', 'H','Li', 'Ge', 'Cu', 'Au', 'Ni', 'Cd', 'In', 'Mn', 'Zr','Cr', 'Pt', 'Hg', 'Pb', 'Unknown']) +
                    one_of_k_encoding(atom.GetDegree(), [0, 1, 2, 3, 4, 5, 6,7,8,9,10]) +
                    one_of_k_encoding_unk(atom.GetTotalNumHs(), [0, 1, 2, 3, 4, 5, 6,7,8,9,10]) +
                    one_of_k_encoding_unk(atom.GetImplicitValence(), [0, 1, 2, 3, 4, 5, 6,7,8,9,10]) +
                    [atom.GetIsAromatic()])

# Returns : 원자 개수, 원자 특성 행렬, 인접 행렬
def smile_to_graph(smile):
    # SMILES 문자열로부터 분자 그래프 데이터 생성
    mol = Chem.MolFromSmiles(smile)

    # mol.GetNumAtoms() : 분자에 소속되어 있는 원자의 개수
    c_size = mol.GetNumAtoms()

    features = []

    # 분자에 소속되어 있는 원자들을 순회하면서 원자 특성 정보 수집
    for atom in mol.GetAtoms():
        feature = atom_features(atom)
        # 정규화?
        features.append( feature / sum(feature) )

    edges = []
    # 분자를 이루는 원자들의 연결 구조 정보를 순회하면서 인접 정보 수집
    # 연결 구조 정보 : 시작 원자 index, 끝 원자 index
    for bond in mol.GetBonds():
        edges.append([bond.GetBeginAtomIdx(), bond.GetEndAtomIdx()])

    # 연결 구조 정보를 통한 방향 그래프 생성
    g = nx.Graph(edges).to_directed()
    edge_index = []
    for e1, e2 in g.edges:
        edge_index.append([e1, e2])

    return c_size, features, edge_index

# 표적 염기서열을 이루는 알파벳(25자) vocabulary
seq_voc = "ABCDEFGHIKLMNOPQRSTUVWXYZ"

# 알파벳들을 정수(1 ~ 25)로 매핑
seq_dict = {v:(i+1) for i,v in enumerate(seq_voc)}

# 시퀀스 딕셔너리 길이 : 25
seq_dict_len = len(seq_dict)

# 패딩을 위한 시퀀스 최대 길이 정의
max_seq_len = 1000

# Returns : 길이가 1000인 Protein Representation(Integer/label encoding)
def seq_cat(prot):
    #  크기가 1000 이고 원소를 0으로 채운 배열 생성
    x = np.zeros(max_seq_len)

    # 시퀀스 딕셔너리를 참조하여 단백질 서열 정보 입력
    for i, ch in enumerate(prot[:max_seq_len]):
        x[i] = seq_dict[ch]

    return x



# GINConv model
class GINConvNet(torch.nn.Module):
    def __init__(self, n_output=1,num_features_xd=78, num_features_xt=25,
                 n_filters=32, embed_dim=128, output_dim=128, dropout=0.2):

        super(GINConvNet, self).__init__()

        dim = 32

        # 약물 분자 표현을 위한 GIN 층 구성
        self.dropout = nn.Dropout(dropout)
        self.relu = nn.ReLU()
        self.n_output = n_output
        nn1 = Sequential(Linear(num_features_xd, dim), ReLU(), Linear(dim, dim))
        self.conv1 = GINConv(nn1)
        self.bn1 = torch.nn.BatchNorm1d(dim)

        nn2 = Sequential(Linear(dim, dim), ReLU(), Linear(dim, dim))
        self.conv2 = GINConv(nn2)
        self.bn2 = torch.nn.BatchNorm1d(dim)

        nn3 = Sequential(Linear(dim, dim), ReLU(), Linear(dim, dim))
        self.conv3 = GINConv(nn3)
        self.bn3 = torch.nn.BatchNorm1d(dim)

        nn4 = Sequential(Linear(dim, dim), ReLU(), Linear(dim, dim))
        self.conv4 = GINConv(nn4)
        self.bn4 = torch.nn.BatchNorm1d(dim)

        nn5 = Sequential(Linear(dim, dim), ReLU(), Linear(dim, dim))
        self.conv5 = GINConv(nn5)
        self.bn5 = torch.nn.BatchNorm1d(dim)

        self.fc1_xd = Linear(dim, output_dim)

        self.embedding_xt = nn.Embedding(num_features_xt + 1, embed_dim)
        self.conv_xt_1 = nn.Conv1d(in_channels=1000, out_channels=n_filters, kernel_size=8)
        self.fc1_xt = nn.Linear(32*121, output_dim)

        # 층 결합
        self.fc1 = nn.Linear(256, 1024)
        self.fc2 = nn.Linear(1024, 256)
        self.out = nn.Linear(256, self.n_output)

    def forward(self, data):
        x, edge_index, batch = data.x, data.edge_index, data.batch
        target = data.target

        x = F.relu(self.conv1(x, edge_index))
        x = self.bn1(x)
        x = F.relu(self.conv2(x, edge_index))
        x = self.bn2(x)
        x = F.relu(self.conv3(x, edge_index))
        x = self.bn3(x)
        x = F.relu(self.conv4(x, edge_index))
        x = self.bn4(x)
        x = F.relu(self.conv5(x, edge_index))
        x = self.bn5(x)
        x = global_add_pool(x, batch)
        x = F.relu(self.fc1_xd(x))
        x = F.dropout(x, p=0.2, training=self.training)

        embedded_xt = self.embedding_xt(target)
        conv_xt = self.conv_xt_1(embedded_xt)
        # flatten
        xt = conv_xt.view(-1, 32 * 121)
        xt = self.fc1_xt(xt)

        # concat
        xc = torch.cat((x, xt), 1)
        # Dense 층 추가
        xc = self.fc1(xc)
        xc = self.relu(xc)
        xc = self.dropout(xc)
        xc = self.fc2(xc)
        xc = self.relu(xc)
        xc = self.dropout(xc)
        out = self.out(xc)
        return out


datasets = ['kiba']
modeling = [GINConvNet]
#cuda_name = "cuda:0"

import torch
import torch.nn.functional as F
from torch_geometric.data import Data
from torch_geometric.nn import global_add_pool
from rdkit import Chem
import re

def make_prediction(model, ligand_data, protein_sequence):
    # 모델을 평가 (evaluation) 모드로 설정
    model.eval()

    # 리간드 그래프 데이터를 PyTorch Geometric 데이터 객체로 변환
    c_size, features, edge_index = smile_to_graph(ligand_data)

    # Create a PyTorch Geometric Data object
    ligand_data = Data(
        x=torch.tensor(features, dtype=torch.float),
        edge_index=torch.tensor(edge_index, dtype=torch.long).t().contiguous()
    )

    # Graph Isomorphism Network (GIN) Layer
    x = F.relu(model.conv1(ligand_data.x, ligand_data.edge_index))
    x = model.bn1(x)
    x = F.relu(model.conv2(x, ligand_data.edge_index))
    x = model.bn2(x)
    x = F.relu(model.conv3(x, ligand_data.edge_index))
    x = model.bn3(x)
    x = F.relu(model.conv4(x, ligand_data.edge_index))
    x = model.bn4(x)
    x = F.relu(model.conv5(x, ligand_data.edge_index))
    x = model.bn5(x)
    x = global_add_pool(x, ligand_data.batch)
    x = F.relu(model.fc1_xd(x))
    x = F.dropout(x, p=0.2, training=model.training)


    protein_sequence = seq_cat(protein_sequence)
    # Convert NumPy array to PyTorch tensor
    protein_sequence = torch.tensor(protein_sequence, dtype=torch.long)

    # Forward pass for protein sequence
    embedded_xt = model.embedding_xt(protein_sequence)
    conv_xt = model.conv_xt_1(embedded_xt)
    xt = conv_xt.view(-1, 32 * 121)
    xt = model.fc1_xt(xt)

    # Concatenate features
    combined_features = torch.cat((x, xt), dim=1)


    # 최종 예측
    with torch.no_grad():
        output = model.fc1(combined_features)
        output = model.relu(output)
        output = model.dropout(output)
        output = model.fc2(output)
        output = model.relu(output)
        output = model.dropout(output)
        output = model.out(output)

    # 예측 결과 반환
    return output.item()


from Bio import SeqIO
from io import StringIO

def read_fasta_file(file_path):
    sequences = []
    with open(file_path, 'r') as file:
        fasta_data = file.read()
    fasta_file = StringIO(fasta_data)
    for record in SeqIO.parse(fasta_file, "fasta"):
        sequences.append(str(record.seq))
    return sequences

def read_smiles_file(file_path):
    smiles_list = []
    with open(file_path, 'r') as file:
        content = file.read()
    smiles_list = content.split(',')
    smiles_list = [smiles.strip() for smiles in smiles_list]
    return smiles_list

#smiles_list = read_smiles_file('test_ligand.txt')
#fasta_sequences = read_fasta_file('test_fasta.FASTA')

from PyQt5 import QtCore, QtWidgets
from PyQt5.QtCore import Qt, QAbstractTableModel, QVariant, QModelIndex
from PyQt5.QtGui import *
from PyQt5.QtWidgets import *
from PIL import ImageQt
import sys
import numpy as np
import pandas as pd
import matplotlib.pyplot as plt
import matplotlib
from matplotlib.backends.backend_qt5agg import FigureCanvasQTAgg as FigureCanvas
from matplotlib.figure import Figure
import torch
import torch.nn.functional as F
from torch_geometric.data import Data
from torch_geometric.nn import global_add_pool
from rdkit import Chem
import re
from Bio import SeqIO
from io import StringIO
from itertools import product

from rdkit.Chem import Draw
from PIL import ImageQt  # 추가로 필요한 모듈

class PandasModel(QAbstractTableModel):
	def __init__(self, df=pd.DataFrame(), parent=None):
		super().__init__(parent)
		self._df = df

	def headerData(self, section, orientation, role=Qt.ItemDataRole.DisplayRole):
		if role != Qt.ItemDataRole.DisplayRole:
			return QVariant()
		if orientation == Qt.Orientation.Horizontal:
			try:
				return self._df.columns.tolist()[section]
			except IndexError:
				return QVariant()
		elif orientation == Qt.Orientation.Vertical:
			try:
				return self._df.index.tolist()[section]
			except IndexError:
				return QVariant()

	def rowCount(self, parent=QModelIndex()):
		return self._df.shape[0]

	def columnCount(self, parent=QModelIndex()):
		return self._df.shape[1]

	def data(self, index, role=Qt.ItemDataRole.DisplayRole):
		if role != Qt.ItemDataRole.DisplayRole:
			return QVariant()
		if not index.isValid():
			return QVariant()
		return QVariant(str(self._df.iloc[index.row(), index.column()]))

class MainWindow(QtWidgets.QWidget) :
       
    def __init__(self):
        super().__init__()
        self.setWindowTitle('systeam')
        self.pal = QPalette()
        self.pal.setColor(QPalette.Background,QColor(213,233,242))
        #(176,220,216)
        self.setAutoFillBackground(True)
        self.setPalette(self.pal)
        self.resize(830, 670)
        self.setWindowIcon(QIcon('drug.png'))
        self.df = None
        self.initUI()
    
    def initUI(self):
        # Subject Label
        self.lb_sbj = QtWidgets.QLabel(self)
        self.lb_sbj.setText('리간드-단백질 상호작용 예측 시스템')
        self.lb_sbj.setGeometry(QtCore.QRect(50, 30, 500, 18))
        font1 = self.lb_sbj.font()
        font1.setPointSize(18)
        font1.setBold(True)
        self.lb_sbj.setFont(font1)
        self.lb_sbj.adjustSize()
        
        self.lb = QtWidgets.QLabel(self)
        self.lb.setText('   리간드와 단백질의 상호작용(결합 친화도)을 예측하는 프로그램입니다.')
        self.lb.setGeometry(QtCore.QRect(50, 80, 600, 50))
        font3 = self.lb.font()
        font3.setPointSize(10)
        self.lb.setFont(font3)  
        # self.lb_systeam.setText('안녕하세요. Systeam 입니다.')
        self.lb2 = QtWidgets.QLabel(self)
        self.lb2.setText('   리간드 구조 SMILES는 txt 파일로 입력하세요. ')
        self.lb2.setFont(font3)   
        self.lb2.setGeometry(QtCore.QRect(50, 120, 600, 50))
        self.lb3 = QtWidgets.QLabel(self)
        self.lb3.setText('   단백질 시퀀스 FASTA는 fasta 파일로 입력하세요. ')
        self.lb3.setGeometry(QtCore.QRect(50, 145, 600, 50))
        self.lb3.setFont(font3)
    
        # add GroupBox
        self.gb = QtWidgets.QGroupBox(self)
        self.gb.setGeometry(QtCore.QRect(40, 195, 750, 430))
        self.LB_ligand = QtWidgets.QLabel(self.gb)
        self.LB_ligand.setGeometry(QtCore.QRect(50, 68, 140, 25))
        self.LB_ligand.setText('리간드 (Ligand)')
        font2 = self.LB_ligand.font()
        font2.setPointSize(10)
        self.LB_ligand.setFont(font2)
        
        self.LB_prot = QtWidgets.QLabel(self.gb)
        self.LB_prot.setGeometry(QtCore.QRect(50, 168, 140, 25))
        self.LB_prot.setText('단백질 (Protein)')
        
        self.LB_prot.setFont(font3)
        
        self.LinEdit1 = QtWidgets.QLineEdit(self.gb)
        self.LinEdit1.setGeometry(QtCore.QRect(200, 68, 290, 25))
        self.LinEdit1.setReadOnly(False)
        self.LinEdit1.setStyleSheet('QLineEdit{background-color: QLinearGradient( x1: 0, y1: 0, x2: 0, y2: 1, stop: 0 #FFFFFF, stop: 0 #FFFFFF, stop: 1 #FFFFFF);padding: 1px;font-size: 15px;border-style: solid;border: 1px solid;border-radius: 5;}')
        
        self.LinEdit2 = QtWidgets.QLineEdit(self.gb)
        self.LinEdit2.setGeometry(QtCore.QRect(200, 168, 290, 25))
        self.LinEdit2.setReadOnly(False)
        self.LinEdit2.setStyleSheet('QLineEdit{background-color: QLinearGradient( x1: 0, y1: 0, x2: 0, y2: 1, stop: 0 #FFFFFF, stop: 0 #FFFFFF, stop: 1 #FFFFFF);padding: 1px;font-size: 15px;border-style: solid;border: 1px solid;border-radius: 5;}')

        self.FC1 = QtWidgets.QPushButton(self.gb)
        self.FC1.setGeometry(QtCore.QRect(510, 63, 112, 34))
        self.FC1.setText('파일 선택')
        self.FC1.setStyleSheet('QPushButton{border-style: solid;border-top-color: qlineargradient(spread:pad, x1:0.5, y1:1, x2:0.5, y2:0, stop:0 rgb(215, 215, 215), stop:1 rgb(222, 222, 222));border-right-color: qlineargradient(spread:pad, x1:0, y1:0.5, x2:1, y2:0.5, stop:0 rgb(217, 217, 217), stop:1 rgb(227, 227, 227));font-size: 17px;border-left-color: qlineargradient(spread:pad, x1:0, y1:0.5, x2:1, y2:0.5, stop:0 rgb(227, 227, 227), stop:1 rgb(217, 217, 217));border-bottom-color: qlineargradient(spread:pad, x1:0.5, y1:1, x2:0.5, y2:0, stop:0 rgb(215, 215, 215), stop:1 rgb(222, 222, 222));border-width: 1px;border-radius: 5px;color: rgb(0,0,0);padding: 2px;background-color: rgb(255,255,255);}QPushButton::default{	border-style: solid;border-top-color: qlineargradient(spread:pad, x1:0.5, y1:1, x2:0.5, y2:0, stop:0 rgb(215, 215, 215), stop:1 rgb(222, 222, 222));border-right-color: qlineargradient(spread:pad, x1:0, y1:0.5, x2:1, y2:0.5, stop:0 rgb(217, 217, 217), stop:1 rgb(227, 227, 227));	border-left-color: qlineargradient(spread:pad, x1:0, y1:0.5, x2:1, y2:0.5, stop:0 rgb(227, 227, 227), stop:1 rgb(217, 217, 217));border-bottom-color: qlineargradient(spread:pad, x1:0.5, y1:1, x2:0.5, y2:0, stop:0 rgb(215, 215, 215), stop:1 rgb(222, 222, 222));border-width: 1px;border-radius: 5px;color: rgb(0,0,0);padding: 2px;background-color: rgb(255,255,255);}QPushButton:hover{border-style: solid;border-top-color: qlineargradient(spread:pad, x1:0.5, y1:1, x2:0.5, y2:0, stop:0 rgb(195, 195, 195), stop:1 rgb(222, 222, 222));border-right-color: qlineargradient(spread:pad, x1:0, y1:0.5, x2:1, y2:0.5, stop:0 rgb(197, 197, 197), stop:1 rgb(227, 227, 227));border-left-color: qlineargradient(spread:pad, x1:0, y1:0.5, x2:1, y2:0.5, stop:0 rgb(227, 227, 227), stop:1 rgb(197, 197, 197));border-bottom-color: qlineargradient(spread:pad, x1:0.5, y1:1, x2:0.5, y2:0, stop:0 rgb(195, 195, 195), stop:1 rgb(222, 222, 222));border-width: 1px;border-radius: 5px;color: rgb(0,0,0);padding: 2px;background-color: rgb(255,255,255);}QPushButton:pressed{border-style: solid;border-top-color: qlineargradient(spread:pad, x1:0.5, y1:1, x2:0.5, y2:0, stop:0 rgb(215, 215, 215), stop:1 rgb(222, 222, 222));border-right-color: qlineargradient(spread:pad, x1:0, y1:0.5, x2:1, y2:0.5, stop:0 rgb(217, 217, 217), stop:1 rgb(227, 227, 227));border-left-color: qlineargradient(spread:pad, x1:0, y1:0.5, x2:1, y2:0.5, stop:0 rgb(227, 227, 227), stop:1 rgb(217, 217, 217));border-bottom-color: qlineargradient(spread:pad, x1:0.5, y1:1, x2:0.5, y2:0, stop:0 rgb(215, 215, 215), stop:1 rgb(222, 222, 222));border-width: 1px;border-radius: 5px;color: rgb(0,0,0);padding: 2px;background-color: rgb(142,142,142);}QPushButton:disabled{border-style: solid;border-top-color: qlineargradient(spread:pad, x1:0.5, y1:1, x2:0.5, y2:0, stop:0 rgb(215, 215, 215), stop:1 rgb(222, 222, 222));	border-right-color: qlineargradient(spread:pad, x1:0, y1:0.5, x2:1, y2:0.5, stop:0 rgb(217, 217, 217), stop:1 rgb(227, 227, 227));border-left-color: qlineargradient(spread:pad, x1:0, y1:0.5, x2:1, y2:0.5, stop:0 rgb(227, 227, 227), stop:1 rgb(217, 217, 217));border-bottom-color: qlineargradient(spread:pad, x1:0.5, y1:1, x2:0.5, y2:0, stop:0 rgb(215, 215, 215), stop:1 rgb(222, 222, 222));border-width: 1px;border-radius: 5px;padding: 2px;background-color: rgb(142,142,142);} ')

        self.FC2 = QtWidgets.QPushButton(self.gb)
        self.FC2.setGeometry(QtCore.QRect(510, 163, 112, 34))
        self.FC2.setText('파일 선택')
        self.FC2.setStyleSheet('QPushButton{border-style: solid;border-top-color: qlineargradient(spread:pad, x1:0.5, y1:1, x2:0.5, y2:0, stop:0 rgb(215, 215, 215), stop:1 rgb(222, 222, 222));border-right-color: qlineargradient(spread:pad, x1:0, y1:0.5, x2:1, y2:0.5, stop:0 rgb(217, 217, 217), stop:1 rgb(227, 227, 227));font-size: 17px;border-left-color: qlineargradient(spread:pad, x1:0, y1:0.5, x2:1, y2:0.5, stop:0 rgb(227, 227, 227), stop:1 rgb(217, 217, 217));border-bottom-color: qlineargradient(spread:pad, x1:0.5, y1:1, x2:0.5, y2:0, stop:0 rgb(215, 215, 215), stop:1 rgb(222, 222, 222));border-width: 1px;border-radius: 5px;color: rgb(0,0,0);padding: 2px;background-color: rgb(255,255,255);}QPushButton::default{	border-style: solid;border-top-color: qlineargradient(spread:pad, x1:0.5, y1:1, x2:0.5, y2:0, stop:0 rgb(215, 215, 215), stop:1 rgb(222, 222, 222));border-right-color: qlineargradient(spread:pad, x1:0, y1:0.5, x2:1, y2:0.5, stop:0 rgb(217, 217, 217), stop:1 rgb(227, 227, 227));	border-left-color: qlineargradient(spread:pad, x1:0, y1:0.5, x2:1, y2:0.5, stop:0 rgb(227, 227, 227), stop:1 rgb(217, 217, 217));border-bottom-color: qlineargradient(spread:pad, x1:0.5, y1:1, x2:0.5, y2:0, stop:0 rgb(215, 215, 215), stop:1 rgb(222, 222, 222));border-width: 1px;border-radius: 5px;color: rgb(0,0,0);padding: 2px;background-color: rgb(255,255,255);}QPushButton:hover{border-style: solid;border-top-color: qlineargradient(spread:pad, x1:0.5, y1:1, x2:0.5, y2:0, stop:0 rgb(195, 195, 195), stop:1 rgb(222, 222, 222));border-right-color: qlineargradient(spread:pad, x1:0, y1:0.5, x2:1, y2:0.5, stop:0 rgb(197, 197, 197), stop:1 rgb(227, 227, 227));border-left-color: qlineargradient(spread:pad, x1:0, y1:0.5, x2:1, y2:0.5, stop:0 rgb(227, 227, 227), stop:1 rgb(197, 197, 197));border-bottom-color: qlineargradient(spread:pad, x1:0.5, y1:1, x2:0.5, y2:0, stop:0 rgb(195, 195, 195), stop:1 rgb(222, 222, 222));border-width: 1px;border-radius: 5px;color: rgb(0,0,0);padding: 2px;background-color: rgb(255,255,255);}QPushButton:pressed{border-style: solid;border-top-color: qlineargradient(spread:pad, x1:0.5, y1:1, x2:0.5, y2:0, stop:0 rgb(215, 215, 215), stop:1 rgb(222, 222, 222));border-right-color: qlineargradient(spread:pad, x1:0, y1:0.5, x2:1, y2:0.5, stop:0 rgb(217, 217, 217), stop:1 rgb(227, 227, 227));border-left-color: qlineargradient(spread:pad, x1:0, y1:0.5, x2:1, y2:0.5, stop:0 rgb(227, 227, 227), stop:1 rgb(217, 217, 217));border-bottom-color: qlineargradient(spread:pad, x1:0.5, y1:1, x2:0.5, y2:0, stop:0 rgb(215, 215, 215), stop:1 rgb(222, 222, 222));border-width: 1px;border-radius: 5px;color: rgb(0,0,0);padding: 2px;background-color: rgb(142,142,142);}QPushButton:disabled{border-style: solid;border-top-color: qlineargradient(spread:pad, x1:0.5, y1:1, x2:0.5, y2:0, stop:0 rgb(215, 215, 215), stop:1 rgb(222, 222, 222));	border-right-color: qlineargradient(spread:pad, x1:0, y1:0.5, x2:1, y2:0.5, stop:0 rgb(217, 217, 217), stop:1 rgb(227, 227, 227));border-left-color: qlineargradient(spread:pad, x1:0, y1:0.5, x2:1, y2:0.5, stop:0 rgb(227, 227, 227), stop:1 rgb(217, 217, 217));border-bottom-color: qlineargradient(spread:pad, x1:0.5, y1:1, x2:0.5, y2:0, stop:0 rgb(215, 215, 215), stop:1 rgb(222, 222, 222));border-width: 1px;border-radius: 5px;padding: 2px;background-color: rgb(142,142,142);} ')

        # 푸시 버튼 클릭시 파일 탐색기 슬롯과 연결
        self.FC1.clicked.connect(lambda: self.get_ligand_file(self.LinEdit1))
        self.FC2.clicked.connect(lambda: self.get_fasta_file(self.LinEdit2))

        #sourceLayout = QHBoxLayout()
        #self.layout.addLayout(sourceLayout)

        self.btn_predict = QtWidgets.QPushButton(self.gb)
        self.btn_predict.setText('결과 확인')
        self.btn_predict.setGeometry(QtCore.QRect(50, 300, 112, 34))
        self.btn_predict.setStyleSheet('QPushButton{border-style: solid;border-top-color: qlineargradient(spread:pad, x1:0.5, y1:1, x2:0.5, y2:0, stop:0 rgb(215, 215, 215), stop:1 rgb(222, 222, 222));border-right-color: qlineargradient(spread:pad, x1:0, y1:0.5, x2:1, y2:0.5, stop:0 rgb(217, 217, 217), stop:1 rgb(227, 227, 227));font-size: 17px;border-left-color: qlineargradient(spread:pad, x1:0, y1:0.5, x2:1, y2:0.5, stop:0 rgb(227, 227, 227), stop:1 rgb(217, 217, 217));border-bottom-color: qlineargradient(spread:pad, x1:0.5, y1:1, x2:0.5, y2:0, stop:0 rgb(215, 215, 215), stop:1 rgb(222, 222, 222));border-width: 1px;border-radius: 5px;color: rgb(0,0,0);padding: 2px;background-color: rgb(255,255,255);}QPushButton::default{	border-style: solid;border-top-color: qlineargradient(spread:pad, x1:0.5, y1:1, x2:0.5, y2:0, stop:0 rgb(215, 215, 215), stop:1 rgb(222, 222, 222));border-right-color: qlineargradient(spread:pad, x1:0, y1:0.5, x2:1, y2:0.5, stop:0 rgb(217, 217, 217), stop:1 rgb(227, 227, 227));	border-left-color: qlineargradient(spread:pad, x1:0, y1:0.5, x2:1, y2:0.5, stop:0 rgb(227, 227, 227), stop:1 rgb(217, 217, 217));border-bottom-color: qlineargradient(spread:pad, x1:0.5, y1:1, x2:0.5, y2:0, stop:0 rgb(215, 215, 215), stop:1 rgb(222, 222, 222));border-width: 1px;border-radius: 5px;color: rgb(0,0,0);padding: 2px;background-color: rgb(255,255,255);}QPushButton:hover{border-style: solid;border-top-color: qlineargradient(spread:pad, x1:0.5, y1:1, x2:0.5, y2:0, stop:0 rgb(195, 195, 195), stop:1 rgb(222, 222, 222));border-right-color: qlineargradient(spread:pad, x1:0, y1:0.5, x2:1, y2:0.5, stop:0 rgb(197, 197, 197), stop:1 rgb(227, 227, 227));border-left-color: qlineargradient(spread:pad, x1:0, y1:0.5, x2:1, y2:0.5, stop:0 rgb(227, 227, 227), stop:1 rgb(197, 197, 197));border-bottom-color: qlineargradient(spread:pad, x1:0.5, y1:1, x2:0.5, y2:0, stop:0 rgb(195, 195, 195), stop:1 rgb(222, 222, 222));border-width: 1px;border-radius: 5px;color: rgb(0,0,0);padding: 2px;background-color: rgb(255,255,255);}QPushButton:pressed{border-style: solid;border-top-color: qlineargradient(spread:pad, x1:0.5, y1:1, x2:0.5, y2:0, stop:0 rgb(215, 215, 215), stop:1 rgb(222, 222, 222));border-right-color: qlineargradient(spread:pad, x1:0, y1:0.5, x2:1, y2:0.5, stop:0 rgb(217, 217, 217), stop:1 rgb(227, 227, 227));border-left-color: qlineargradient(spread:pad, x1:0, y1:0.5, x2:1, y2:0.5, stop:0 rgb(227, 227, 227), stop:1 rgb(217, 217, 217));border-bottom-color: qlineargradient(spread:pad, x1:0.5, y1:1, x2:0.5, y2:0, stop:0 rgb(215, 215, 215), stop:1 rgb(222, 222, 222));border-width: 1px;border-radius: 5px;color: rgb(0,0,0);padding: 2px;background-color: rgb(142,142,142);}QPushButton:disabled{border-style: solid;border-top-color: qlineargradient(spread:pad, x1:0.5, y1:1, x2:0.5, y2:0, stop:0 rgb(215, 215, 215), stop:1 rgb(222, 222, 222));	border-right-color: qlineargradient(spread:pad, x1:0, y1:0.5, x2:1, y2:0.5, stop:0 rgb(217, 217, 217), stop:1 rgb(227, 227, 227));border-left-color: qlineargradient(spread:pad, x1:0, y1:0.5, x2:1, y2:0.5, stop:0 rgb(227, 227, 227), stop:1 rgb(217, 217, 217));border-bottom-color: qlineargradient(spread:pad, x1:0.5, y1:1, x2:0.5, y2:0, stop:0 rgb(215, 215, 215), stop:1 rgb(222, 222, 222));border-width: 1px;border-radius: 5px;padding: 2px;background-color: rgb(142,142,142);} ')
        self.btn_predict.clicked.connect(lambda: self.all_main())

        self.lb_predict = QtWidgets.QLabel(self.gb)
        self.lb_predict.setText(' 리간드와 단백질의 결합 친화도를 KIBA score로 나타냅니다.') #수정하기
        self.lb_predict.setFont(font3)   
        self.lb_predict.setGeometry(QtCore.QRect(180, 300, 500, 34))

        self.btn_visual = QtWidgets.QPushButton(self.gb)
        self.btn_visual.setText('상세 보기')
        self.btn_visual.setGeometry(QtCore.QRect(50, 350, 112, 34))
        self.btn_visual.setStyleSheet('QPushButton{border-style: solid;border-top-color: qlineargradient(spread:pad, x1:0.5, y1:1, x2:0.5, y2:0, stop:0 rgb(215, 215, 215), stop:1 rgb(222, 222, 222));border-right-color: qlineargradient(spread:pad, x1:0, y1:0.5, x2:1, y2:0.5, stop:0 rgb(217, 217, 217), stop:1 rgb(227, 227, 227));font-size: 17px;border-left-color: qlineargradient(spread:pad, x1:0, y1:0.5, x2:1, y2:0.5, stop:0 rgb(227, 227, 227), stop:1 rgb(217, 217, 217));border-bottom-color: qlineargradient(spread:pad, x1:0.5, y1:1, x2:0.5, y2:0, stop:0 rgb(215, 215, 215), stop:1 rgb(222, 222, 222));border-width: 1px;border-radius: 5px;color: rgb(0,0,0);padding: 2px;background-color: rgb(255,255,255);}QPushButton::default{	border-style: solid;border-top-color: qlineargradient(spread:pad, x1:0.5, y1:1, x2:0.5, y2:0, stop:0 rgb(215, 215, 215), stop:1 rgb(222, 222, 222));border-right-color: qlineargradient(spread:pad, x1:0, y1:0.5, x2:1, y2:0.5, stop:0 rgb(217, 217, 217), stop:1 rgb(227, 227, 227));	border-left-color: qlineargradient(spread:pad, x1:0, y1:0.5, x2:1, y2:0.5, stop:0 rgb(227, 227, 227), stop:1 rgb(217, 217, 217));border-bottom-color: qlineargradient(spread:pad, x1:0.5, y1:1, x2:0.5, y2:0, stop:0 rgb(215, 215, 215), stop:1 rgb(222, 222, 222));border-width: 1px;border-radius: 5px;color: rgb(0,0,0);padding: 2px;background-color: rgb(255,255,255);}QPushButton:hover{border-style: solid;border-top-color: qlineargradient(spread:pad, x1:0.5, y1:1, x2:0.5, y2:0, stop:0 rgb(195, 195, 195), stop:1 rgb(222, 222, 222));border-right-color: qlineargradient(spread:pad, x1:0, y1:0.5, x2:1, y2:0.5, stop:0 rgb(197, 197, 197), stop:1 rgb(227, 227, 227));border-left-color: qlineargradient(spread:pad, x1:0, y1:0.5, x2:1, y2:0.5, stop:0 rgb(227, 227, 227), stop:1 rgb(197, 197, 197));border-bottom-color: qlineargradient(spread:pad, x1:0.5, y1:1, x2:0.5, y2:0, stop:0 rgb(195, 195, 195), stop:1 rgb(222, 222, 222));border-width: 1px;border-radius: 5px;color: rgb(0,0,0);padding: 2px;background-color: rgb(255,255,255);}QPushButton:pressed{border-style: solid;border-top-color: qlineargradient(spread:pad, x1:0.5, y1:1, x2:0.5, y2:0, stop:0 rgb(215, 215, 215), stop:1 rgb(222, 222, 222));border-right-color: qlineargradient(spread:pad, x1:0, y1:0.5, x2:1, y2:0.5, stop:0 rgb(217, 217, 217), stop:1 rgb(227, 227, 227));border-left-color: qlineargradient(spread:pad, x1:0, y1:0.5, x2:1, y2:0.5, stop:0 rgb(227, 227, 227), stop:1 rgb(217, 217, 217));border-bottom-color: qlineargradient(spread:pad, x1:0.5, y1:1, x2:0.5, y2:0, stop:0 rgb(215, 215, 215), stop:1 rgb(222, 222, 222));border-width: 1px;border-radius: 5px;color: rgb(0,0,0);padding: 2px;background-color: rgb(142,142,142);}QPushButton:disabled{border-style: solid;border-top-color: qlineargradient(spread:pad, x1:0.5, y1:1, x2:0.5, y2:0, stop:0 rgb(215, 215, 215), stop:1 rgb(222, 222, 222));	border-right-color: qlineargradient(spread:pad, x1:0, y1:0.5, x2:1, y2:0.5, stop:0 rgb(217, 217, 217), stop:1 rgb(227, 227, 227));border-left-color: qlineargradient(spread:pad, x1:0, y1:0.5, x2:1, y2:0.5, stop:0 rgb(227, 227, 227), stop:1 rgb(217, 217, 217));border-bottom-color: qlineargradient(spread:pad, x1:0.5, y1:1, x2:0.5, y2:0, stop:0 rgb(215, 215, 215), stop:1 rgb(222, 222, 222));border-width: 1px;border-radius: 5px;padding: 2px;background-color: rgb(142,142,142);} ')
       
        self.btn_visual.clicked.connect(lambda: self.open_graph())
        
        
        self.lb_csv = QtWidgets.QLabel(self.gb)
        self.lb_csv.setText(' 결합 친화도를 그래프로 확인하고') #수정하기
        self.lb_csv.setFont(font3)   
        self.lb_csv.setGeometry(QtCore.QRect(180, 350, 500, 25))
        
        self.lb_csv2 = QtWidgets.QLabel(self.gb)
        self.lb_csv2.setText(' 리간드 분자 구조와 단백질 아미노산 정보를 확인합니다.') #수정하기
        self.lb_csv2.setFont(font3)   
        self.lb_csv2.setGeometry(QtCore.QRect(180, 380, 500, 25))
        
        self.table = QTableView()
        self.table.setGeometry(800, 180, 650, 570)
        self.table.horizontalHeader().setSectionsMovable(True)
        self.statusLabel = QLabel()
        self.statusLabel.setText('')

    def get_ligand_file(self, X):
        file, check = QtWidgets.QFileDialog.getOpenFileName(self, '파일 선택 창', "", "Text Files (*.txt)")
        if check:
            X.setText(file)
            self.file_path1=file
            print("file: ", self.file_path1)

    
        
    def get_fasta_file(self, X):
        file, check = QtWidgets.QFileDialog.getOpenFileName(self, '파일 선택 창', "", "FASTA Files (*.FASTA)")
        if check:
            X.setText(file)
            self.file_path2=file
            print("file: ", self.file_path2)
           
    def make_prediction(self, model, ligand_data, protein_sequence):
        # 모델을 평가 (evaluation) 모드로 설정
        #model.eval()

        # 리간드 그래프 데이터를 PyTorch Geometric 데이터 객체로 변환
        c_size, features, edge_index = smile_to_graph(ligand_data)

            # Create a PyTorch Geometric Data object
        ligand_data = Data(
            x=torch.tensor(features, dtype=torch.float),
            edge_index=torch.tensor(edge_index, dtype=torch.long).t().contiguous()
        )

            # Graph Isomorphism Network (GIN) Layer
        x = F.relu(model.conv1(ligand_data.x, ligand_data.edge_index))
        x = model.bn1(x)
        x = F.relu(model.conv2(x, ligand_data.edge_index))
        x = model.bn2(x)
        x = F.relu(model.conv3(x, ligand_data.edge_index))
        x = model.bn3(x)
        x = F.relu(model.conv4(x, ligand_data.edge_index))
        x = model.bn4(x)
        x = F.relu(model.conv5(x, ligand_data.edge_index))
        x = model.bn5(x)
        x = global_add_pool(x, ligand_data.batch)
        x = F.relu(model.fc1_xd(x))
        x = F.dropout(x, p=0.2, training=model.training)

        protein_sequence = seq_cat(protein_sequence)
            # Convert NumPy array to PyTorch tensor
        protein_sequence = torch.tensor(protein_sequence, dtype=torch.long)

        embedded_xt = model.embedding_xt(protein_sequence)
        conv_xt = model.conv_xt_1(embedded_xt)
        xt = conv_xt.view(-1, 32 * 121)
        xt = model.fc1_xt(xt)

            # Concatenate features
        combined_features = torch.cat((x, xt), dim=1)

            # 최종 예측
        with torch.no_grad():
            output = model.fc1(combined_features)
            output = model.relu(output)
            output = model.dropout(output)
            output = model.fc2(output)
            output = model.relu(output)
            output = model.dropout(output)
            output = model.out(output)
            # 예측 결과 반환
        return output.item()

    def all_main(self):  #fasta, model 읽어오기, csv 파일로 내보내기
        
        smiles_list = read_smiles_file(self.file_path1) ##
        fasta_sequences = read_fasta_file(self.file_path2) ##
        # 입력 리스트들
        list1 = smiles_list
        list2 = fasta_sequences

        model_file_name = 'model_GINConvNet_kiba.model'
        model = GINConvNet(num_features_xd=78, num_features_xt=25, output_dim=128)
        model.load_state_dict(torch.load(model_file_name))
        model.eval()    

        # 모든 조합 생성
        result = list(product(list1, list2))
        result_values = [self.make_prediction(model, item[0], item[1]) for item in result]

        # 결과를 데이터프레임으로 변환 (index를 1부터 시작하도록 설정)
        df = pd.DataFrame({
            'Ligand': [item[0] for item in result],
            'Protein': [item[1] for item in result],
            'KIBA score': result_values
        }, index=range(1, len(result) + 1))  # index를 1부터 시작하도록 설정

        # 결과를 내림차순으로 정렬
        df_sorted = df.sort_values(by='KIBA score', ascending=False)
        
        df_sorted['Rank'] = range(1, len(df_sorted) + 1)
        
        df_sorted.to_csv('output.csv', index=False)        
        print('csv 파일 내보내기')
        self.retrieveDataset()
        

    def get_ligand_options(self):
        smiles_list = read_smiles_file(self.file_path1) ##
        ligand_options = [f"{smile[:50]}..." for smile in smiles_list]
        return ligand_options

    def get_protein_options(self):
        fasta_sequences = read_fasta_file(self.file_path2) ##
        protein_options = [f"{seq[:50]}..." for seq in fasta_sequences]
        return protein_options


    def update_graphs_ligand(self):
        smiles_list = read_smiles_file(self.file_path1) 
        ligand_index = self.ligand_combobox.currentIndex()

        # 기존 그래프를 모두 제거
        for i in reversed(range(self.layout1.count())):
            widget = self.layout1.takeAt(i).widget()
            if widget is not None:
                widget.deleteLater()

         # 선택된 리간드 가져오기
        ligand_index = self.ligand_combobox.currentIndex()
        if 1 <= ligand_index < len(smiles_list) + 1:
            smile = smiles_list[ligand_index - 1]

        # 분자 그래프 생성
            example_mol = Chem.MolFromSmiles(smile)
            img = Draw.MolToImage(example_mol)

        # 이미지를 Bytes로 변환
            img_bytes = img.tobytes()

        # QImage로 변환
            qimg = QImage(img_bytes, img.width, img.height, QImage.Format_RGB888)

        # QLabel에 이미지 표시
            img_label = QLabel(self)
            img_label.setPixmap(QPixmap.fromImage(qimg))

            # QLabel을 레이아웃에 추가
            self.layout1.addWidget(img_label)
            self.second_layout.addLayout(self.layout1)
            
    def update_graphs_protein(self):
        fasta_sequences = read_fasta_file(self.file_path2) ##
        protein_index = self.protein_combobox.currentIndex()

        for i in reversed(range(self.layout2.count())):
            widget = self.layout2.takeAt(i).widget()
            if widget is not None:
                widget.deleteLater()

        if 1 <= protein_index < len(fasta_sequences)+1:
            seq = fasta_sequences[protein_index-1]
        
            alphabet = 'ACDEFGHIKLMNPQRSTVWY'
            letter_counts = {letter: seq.count(letter) for letter in alphabet}

            fig, ax = plt.subplots()
            ax.bar(letter_counts.keys(), letter_counts.values(), color='skyblue')
            ax.set_xlabel('Amino Acids')
            ax.set_ylabel('Count')

            canvas = FigureCanvas(fig)
            self.layout2.addWidget(canvas)
            self.second_layout.addLayout(self.layout2)
	
      
    def retrieveDataset(self): #csv파일 테이블로 보여주기
        self.df = pd.read_csv('output.csv') #url 수정
        self.df.fillna('')
        self.model = PandasModel(self.df)
        self.table.setModel(self.model)
        self.table.setWindowTitle('결과 확인')
        self.table.setWindowIcon(QIcon('drug.png'))
        self.table.show()

    
    def open_graph(self):
        smiles_list = read_smiles_file(self.file_path1) ##
        fasta_sequences = read_fasta_file(self.file_path2) ##
        
        details_dialog = QDialog(self)
        details_dialog.setWindowTitle("상세 보기")
        details_dialog.setWindowIcon(QIcon('drug.png'))
        details_dialog.setGeometry(100, 50, 1600, 950)  # 창의 위치와 크기 설정
        
        all_layout = QVBoxLayout()
        self.first_layout = QHBoxLayout()
        self.second_layout = QHBoxLayout()
        self.main_layout = QHBoxLayout()
        
        # 데이터 읽기 및 전처리
        self.df = pd.read_csv('output.csv')
        self.df.fillna('', inplace=True)

        # 그래프를 포함하는 QWidget 생성
        graph_widget = QWidget(self)

        # 막대 그래프 그리기
        self.fig, ax = plt.subplots(figsize=(12, 6))
        ax.bar(range(len(self.df)), self.df['KIBA score'], color='skyblue')
        ax.set_xticks(range(len(self.df)))
        ax.set_xticklabels(range(1, len(self.df) + 1), fontsize=17)
        ax.set_yticklabels(ax.get_yticks(), fontsize=17)
        #ax.set_xlabel('Data Index')
        ax.set_ylabel('KIBA score', fontsize=18)
        ax.set_title('Ligand - Protein Interaction Prediction System', fontsize=25, pad=20)

        # FigureCanvas를 생성하고 그래프 레이아웃에 추가
        self.canvas = FigureCanvas(self.fig)
        graph_layout = QVBoxLayout(graph_widget)
        graph_layout.addWidget(self.canvas)

        # 리간드와 단백질을 포함하는 QWidget 생성
        table_widget = QWidget(self)

        # 리간드와 단백질을 표로 생성
        self.table_widget = QTableWidget(self)
        self.table_widget.setColumnCount(3)
        self.table_widget.setHorizontalHeaderLabels(['Ligand', 'Protein', 'KIBA Score'])

        for index, row in self.df.iterrows():
            ligand_item = QTableWidgetItem(row['Ligand'])
            protein_item = QTableWidgetItem(row['Protein'])
            kiba_item = QTableWidgetItem(str(row['KIBA score']))
            self.table_widget.insertRow(index)
            self.table_widget.setItem(index, 0, ligand_item)
            self.table_widget.setItem(index, 1, protein_item)
            self.table_widget.setItem(index, 2, kiba_item)


        # 표 레이아웃에 추가
        table_layout = QVBoxLayout(table_widget)
        table_layout.addWidget(self.table_widget)
        
        self.main_layout.addWidget(graph_widget)
        self.main_layout.addWidget(table_widget)
        
        self.layout1 = QVBoxLayout()

        # 콤보박스 생성 및 옵션 추가s
        self.ligand_combobox = QComboBox(self)
        self.ligand_combobox.addItem("리간드를 선택하세요")
        self.ligand_combobox.addItems(self.get_ligand_options())
        self.ligand_combobox.currentIndexChanged.connect(self.update_graphs_ligand)
        
        self.first_layout.addWidget(self.ligand_combobox)

    
        # 두 번째 레이아웃 (Amino Acid Sequence 관련)
        self.layout2 = QVBoxLayout()

        # 콤보박스 생성 및 옵션 추가
        self.protein_combobox = QComboBox(self)
        self.protein_combobox.addItem("단백질을 선택하세요")
        self.protein_combobox.addItems(self.get_protein_options())
        self.protein_combobox.currentIndexChanged.connect(self.update_graphs_protein)
        
        self.first_layout.addWidget(self.protein_combobox)

        all_layout.addLayout(self.main_layout)
        all_layout.addLayout(self.first_layout)
        all_layout.addLayout(self.second_layout)
        
        details_dialog.setLayout(all_layout)

        details_dialog.exec_()

    
if __name__ == "__main__":
    app = QtWidgets.QApplication(sys.argv)
    fontDB=QFontDatabase.addApplicationFont('NanumSquareR.ttf')
    if fontDB<0 :
        print('font not loaded')
    families = QFontDatabase.applicationFontFamilies(fontDB)
    font = QFont(families[0])
    app.setFont(font)
    mw = MainWindow()
    mw.show()
    sys.exit(app.exec_())
